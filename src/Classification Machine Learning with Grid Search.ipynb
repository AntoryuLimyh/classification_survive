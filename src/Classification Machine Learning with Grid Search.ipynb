{
 "cells": [
  {
   "cell_type": "code",
   "execution_count": 1,
   "id": "dc6b4ae2",
   "metadata": {},
   "outputs": [],
   "source": [
    "#Import the essential function\n",
    "import sqlite3\n",
    "import pandas as pd\n",
    "import numpy as np\n",
    "\n",
    "# Import the train-test, standard scaler function\n",
    "from sklearn.model_selection import train_test_split\n",
    "from sklearn.preprocessing import StandardScaler\n",
    "\n",
    "# Import the classification measurement function\n",
    "from sklearn.metrics import confusion_matrix,classification_report,plot_confusion_matrix\n",
    "\n",
    "# Import the GridSearch function\n",
    "from sklearn.model_selection import GridSearchCV\n",
    "\n",
    "\n",
    "# Import the Classification Machine Learning Models function\n",
    "from sklearn.linear_model import LogisticRegression\n",
    "from sklearn.neighbors import KNeighborsClassifier\n",
    "from sklearn.svm import SVC\n",
    "from sklearn.ensemble import RandomForestClassifier\n",
    "from sklearn.ensemble import GradientBoostingClassifier,AdaBoostClassifier\n",
    "\n",
    "#Cross Validation\n",
    "from sklearn.model_selection import KFold\n",
    "from sklearn.model_selection import cross_val_score\n",
    "from sklearn.metrics import recall_score,make_scorer\n",
    "\n"
   ]
  },
  {
   "cell_type": "code",
   "execution_count": 2,
   "id": "f2e422c4",
   "metadata": {},
   "outputs": [],
   "source": [
    "# Import the supporting function  \n",
    "\n",
    "# - Data cleaning and standardisation based on the EDA finding\n",
    "from support import DataStandard\n",
    "\n",
    "# - Consolidated measurment function - Classification report with Confusion Matrix\n",
    "from support import ClassMeasure \n",
    "\n",
    "# - Search for the defined parameters based on the given param grid and the machine learning and the train with the best available parameters\n",
    "from support import MLGridSearch"
   ]
  },
  {
   "cell_type": "code",
   "execution_count": 3,
   "id": "c641cf62",
   "metadata": {},
   "outputs": [],
   "source": [
    "#Connect to the Survive Database\n",
    "\n",
    "sql_connect = sqlite3.connect('..\\data\\survive.db')\n",
    "\n",
    "# Save the SQL query string\n",
    "\n",
    "query = \"SELECT * FROM survive\"\n",
    "\n",
    "#Create a dataframe \n",
    "\n",
    "source = pd.read_sql_query(query,sql_connect)\n",
    "#source"
   ]
  },
  {
   "cell_type": "code",
   "execution_count": 4,
   "id": "1a290aae",
   "metadata": {},
   "outputs": [],
   "source": [
    "# Load the clean data with the support function\n",
    "\n",
    "df = DataStandard(source)\n",
    "\n",
    "\n",
    "#Split the dataframe to Feature(X) and Label(y)\n",
    "\n",
    "#-Features\n",
    "X = df.drop('Survive',axis=1)\n",
    "\n",
    "#-Label\n",
    "y = df['Survive']\n",
    "\n",
    "#Split the Feature and Label data from Training and Testing\n",
    "\n",
    "X_train, X_test, y_train, y_test = train_test_split(X, y, test_size=0.3, random_state=101,stratify=y)\n",
    "\n",
    "# Standard Scaling\n",
    "\n",
    "scaler = StandardScaler()\n",
    "scaled_X_train = scaler.fit_transform(X_train)\n",
    "scaled_X_test = scaler.transform(X_test)\n"
   ]
  },
  {
   "cell_type": "code",
   "execution_count": 35,
   "id": "2a21cfac",
   "metadata": {},
   "outputs": [],
   "source": [
    "#Cross Validation Evaluation on the ML model\n",
    "\n",
    "#Define the scoring strategy for cross validation\n",
    "recallscore = make_scorer(recall_score)\n",
    "\n",
    "# Standard Scaling the X data (In line with GridSearch scaled training set)\n",
    "scaled_X= scaler.fit_transform(X)\n",
    "\n",
    "\n",
    "def cross_val(ML):\n",
    "\n",
    "    # prepare the cross-validation procedure\n",
    "    cv = KFold(n_splits=5, random_state=1, shuffle=True)\n",
    "\n",
    "\n",
    "    # evaluate model\n",
    "    scores = cross_val_score(ML, scaled_X, y, scoring=recallscore, cv=cv, n_jobs=-1)\n",
    "    \n",
    "    # report performance\n",
    "    print('ML model :',ML.best_estimator_)\n",
    "    print('\\nScore',scores )\n",
    "    print('\\nRecall (average & Standard deviation): %.3f (%.3f)' % (scores.mean(), scores.std()))\n",
    "\n",
    "\n"
   ]
  },
  {
   "cell_type": "markdown",
   "id": "fa7d7cd8",
   "metadata": {},
   "source": [
    "____________________"
   ]
  },
  {
   "cell_type": "markdown",
   "id": "84ef82e8",
   "metadata": {},
   "source": [
    "#### Logistic Regression"
   ]
  },
  {
   "cell_type": "code",
   "execution_count": 6,
   "id": "9e421185",
   "metadata": {},
   "outputs": [],
   "source": [
    "# Define the parameters for the param grid\n",
    "\n",
    "# - Penalty Type\n",
    "penalty = ['l1', 'l2', 'elasticnet', 'none']\n",
    "\n",
    "# - Use logarithmically spaced C values\n",
    "C = np.logspace(0, 4, 10)\n",
    "\n",
    "param_grid = {'C':C,'penalty':penalty}\n",
    "\n",
    "# Instantiate the selected ML Model with defined parameters and select the best parameters via GridSearchCV\n",
    "\n",
    "LRGrid = MLGridSearch(LogisticRegression(solver='saga',multi_class=\"ovr\",max_iter=5000),param_grid,scaled_X_train,y_train)\n"
   ]
  },
  {
   "cell_type": "code",
   "execution_count": 36,
   "id": "32b406ea",
   "metadata": {},
   "outputs": [
    {
     "name": "stdout",
     "output_type": "stream",
     "text": [
      "ML model : LogisticRegression(max_iter=5000, multi_class='ovr', penalty='none',\n",
      "                   solver='saga')\n",
      "\n",
      "Score [0.68162839 0.6612411  0.68987342 0.66561514 0.65230769]\n",
      "\n",
      "Recall (average & Standard deviation): 0.670 (0.014)\n"
     ]
    }
   ],
   "source": [
    "#Cross Validation on the model with hyperparameter tuning\n",
    "\n",
    "cross_val(LRGrid)"
   ]
  },
  {
   "cell_type": "code",
   "execution_count": 19,
   "id": "b6c8181e",
   "metadata": {},
   "outputs": [
    {
     "name": "stdout",
     "output_type": "stream",
     "text": [
      "\n",
      "Classification report\n",
      "              precision    recall  f1-score   support\n",
      "\n",
      "           0       0.84      0.91      0.87      2906\n",
      "           1       0.78      0.65      0.71      1445\n",
      "\n",
      "    accuracy                           0.82      4351\n",
      "   macro avg       0.81      0.78      0.79      4351\n",
      "weighted avg       0.82      0.82      0.82      4351\n",
      "\n",
      "\n",
      "Confusion Matrix\n",
      "[[2644  262]\n",
      " [ 511  934]]\n"
     ]
    }
   ],
   "source": [
    "# Run the prediction\n",
    "\n",
    "y_pred_LRGrid = LRGrid.predict(scaled_X_test)\n",
    "ClassMeasure(y_test,y_pred_LRGrid)"
   ]
  },
  {
   "cell_type": "markdown",
   "id": "6af6033e",
   "metadata": {},
   "source": [
    "#### K Nearest Neighbour "
   ]
  },
  {
   "cell_type": "code",
   "execution_count": 8,
   "id": "c3797580",
   "metadata": {},
   "outputs": [],
   "source": [
    "# Define the parameters for the param grid\n",
    "\n",
    "k_values = list(range(1,100))\n",
    "\n",
    "param_grid = {'n_neighbors': k_values}\n",
    "\n",
    "# Instantiate the selected ML Model with defined parameters and select the best parameters via GridSearchCV\n",
    "\n",
    "KnnGrid = MLGridSearch(KNeighborsClassifier(),param_grid,scaled_X_train, y_train)"
   ]
  },
  {
   "cell_type": "code",
   "execution_count": 21,
   "id": "6d5e7d5f",
   "metadata": {},
   "outputs": [
    {
     "data": {
      "text/plain": [
       "{'n_neighbors': 1}"
      ]
     },
     "execution_count": 21,
     "metadata": {},
     "output_type": "execute_result"
    }
   ],
   "source": [
    "# Check the Best Parameters\n",
    "\n",
    "KnnGrid.best_params_"
   ]
  },
  {
   "cell_type": "code",
   "execution_count": 37,
   "id": "79aef3e0",
   "metadata": {},
   "outputs": [
    {
     "name": "stdout",
     "output_type": "stream",
     "text": [
      "ML model : KNeighborsClassifier(n_neighbors=1)\n",
      "\n",
      "Score [0.99478079 0.99694812 0.99683544 0.99684543 0.99897436]\n",
      "\n",
      "Recall (average & Standard deviation): 0.997 (0.001)\n"
     ]
    }
   ],
   "source": [
    "#Cross Validation on the model with hyperparameter tuning\n",
    "\n",
    "cross_val(KnnGrid)"
   ]
  },
  {
   "cell_type": "code",
   "execution_count": 22,
   "id": "c65127e8",
   "metadata": {},
   "outputs": [
    {
     "name": "stdout",
     "output_type": "stream",
     "text": [
      "\n",
      "Classification report\n",
      "              precision    recall  f1-score   support\n",
      "\n",
      "           0       1.00      1.00      1.00      2906\n",
      "           1       0.99      0.99      0.99      1445\n",
      "\n",
      "    accuracy                           0.99      4351\n",
      "   macro avg       0.99      0.99      0.99      4351\n",
      "weighted avg       0.99      0.99      0.99      4351\n",
      "\n",
      "\n",
      "Confusion Matrix\n",
      "[[2895   11]\n",
      " [  13 1432]]\n"
     ]
    }
   ],
   "source": [
    "y_pred_knn = KnnGrid.predict(scaled_X_test)\n",
    "ClassMeasure(y_test,y_pred_knn)"
   ]
  },
  {
   "cell_type": "markdown",
   "id": "d71104c6",
   "metadata": {},
   "source": [
    "#### Support Vector Classification"
   ]
  },
  {
   "cell_type": "code",
   "execution_count": 10,
   "id": "9ec6f6a7",
   "metadata": {},
   "outputs": [],
   "source": [
    "# Define the parameters for the param grid\n",
    "\n",
    "param_grid = {'C':[0.001,0.01,0.1,0.5,1],'gamma':['scale','auto'],'decision_function_shape':['ovo', 'ovr']}\n",
    "\n",
    "# Instantiate the selected ML Model with defined parameters and select the best parameters via GridSearchCV\n",
    "\n",
    "SVCGrid = MLGridSearch(SVC(),param_grid,scaled_X_train, y_train)"
   ]
  },
  {
   "cell_type": "code",
   "execution_count": 23,
   "id": "7c9d22b8",
   "metadata": {},
   "outputs": [
    {
     "data": {
      "text/plain": [
       "{'C': 1, 'decision_function_shape': 'ovo', 'gamma': 'auto'}"
      ]
     },
     "execution_count": 23,
     "metadata": {},
     "output_type": "execute_result"
    }
   ],
   "source": [
    "# Check the Best Parameters\n",
    "\n",
    "SVCGrid.best_params_"
   ]
  },
  {
   "cell_type": "code",
   "execution_count": 38,
   "id": "74fb94e4",
   "metadata": {},
   "outputs": [
    {
     "name": "stdout",
     "output_type": "stream",
     "text": [
      "ML model : SVC(C=1, decision_function_shape='ovo', gamma='auto')\n",
      "\n",
      "Score [0.90292276 0.88911495 0.8871308  0.87066246 0.89230769]\n",
      "\n",
      "Recall (average & Standard deviation): 0.888 (0.010)\n"
     ]
    }
   ],
   "source": [
    "#Cross Validation on the model with hyperparameter tuning\n",
    "\n",
    "cross_val(SVCGrid)"
   ]
  },
  {
   "cell_type": "code",
   "execution_count": 24,
   "id": "0c4b83c0",
   "metadata": {},
   "outputs": [
    {
     "name": "stdout",
     "output_type": "stream",
     "text": [
      "\n",
      "Classification report\n",
      "              precision    recall  f1-score   support\n",
      "\n",
      "           0       0.93      0.98      0.96      2906\n",
      "           1       0.97      0.86      0.91      1445\n",
      "\n",
      "    accuracy                           0.94      4351\n",
      "   macro avg       0.95      0.92      0.93      4351\n",
      "weighted avg       0.94      0.94      0.94      4351\n",
      "\n",
      "\n",
      "Confusion Matrix\n",
      "[[2861   45]\n",
      " [ 200 1245]]\n"
     ]
    }
   ],
   "source": [
    "y_pred_SVC = SVCGrid.predict(scaled_X_test)\n",
    "ClassMeasure(y_test,y_pred_SVC)"
   ]
  },
  {
   "cell_type": "markdown",
   "id": "53803a71",
   "metadata": {},
   "source": [
    "#### Random Forest"
   ]
  },
  {
   "cell_type": "code",
   "execution_count": 12,
   "id": "986319d2",
   "metadata": {},
   "outputs": [],
   "source": [
    "# Define the parameters for the param grid\n",
    "\n",
    "estimators = list(range(1,100))\n",
    "\n",
    "param_grid = {'n_estimators': estimators}\n",
    "\n",
    "# Instantiate the selected ML Model with defined parameters and select the best parameters via GridSearchCV\n",
    "\n",
    "RFGrid = MLGridSearch(RandomForestClassifier(),param_grid,scaled_X_train, y_train)"
   ]
  },
  {
   "cell_type": "code",
   "execution_count": 13,
   "id": "cf5e219b",
   "metadata": {},
   "outputs": [
    {
     "data": {
      "text/plain": [
       "{'n_estimators': 83}"
      ]
     },
     "execution_count": 13,
     "metadata": {},
     "output_type": "execute_result"
    }
   ],
   "source": [
    "# Check the Best Parameters\n",
    "\n",
    "RFGrid.best_params_"
   ]
  },
  {
   "cell_type": "code",
   "execution_count": 39,
   "id": "d46ea505",
   "metadata": {},
   "outputs": [
    {
     "name": "stdout",
     "output_type": "stream",
     "text": [
      "ML model : RandomForestClassifier(n_estimators=83)\n",
      "\n",
      "Score [1.         0.99898271 1.         1.         1.        ]\n",
      "\n",
      "Recall (average & Standard deviation): 1.000 (0.000)\n"
     ]
    }
   ],
   "source": [
    "#Cross Validation on the model with hyperparameter tuning\n",
    "\n",
    "cross_val(RFGrid)"
   ]
  },
  {
   "cell_type": "code",
   "execution_count": 18,
   "id": "e5510b61",
   "metadata": {},
   "outputs": [
    {
     "name": "stdout",
     "output_type": "stream",
     "text": [
      "\n",
      "Classification report\n",
      "              precision    recall  f1-score   support\n",
      "\n",
      "           0       1.00      1.00      1.00      2906\n",
      "           1       1.00      1.00      1.00      1445\n",
      "\n",
      "    accuracy                           1.00      4351\n",
      "   macro avg       1.00      1.00      1.00      4351\n",
      "weighted avg       1.00      1.00      1.00      4351\n",
      "\n",
      "\n",
      "Confusion Matrix\n",
      "[[2906    0]\n",
      " [   0 1445]]\n"
     ]
    }
   ],
   "source": [
    "y_pred_RF = RFGrid.predict(scaled_X_test)\n",
    "ClassMeasure(y_test,y_pred_RF)"
   ]
  }
 ],
 "metadata": {
  "kernelspec": {
   "display_name": "Python 3",
   "language": "python",
   "name": "python3"
  },
  "language_info": {
   "codemirror_mode": {
    "name": "ipython",
    "version": 3
   },
   "file_extension": ".py",
   "mimetype": "text/x-python",
   "name": "python",
   "nbconvert_exporter": "python",
   "pygments_lexer": "ipython3",
   "version": "3.8.8"
  }
 },
 "nbformat": 4,
 "nbformat_minor": 5
}
